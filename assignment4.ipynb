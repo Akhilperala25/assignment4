{
 "cells": [
  {
   "cell_type": "code",
   "execution_count": null,
   "id": "68e186b8",
   "metadata": {},
   "outputs": [],
   "source": [
    "# 1.1 Write a Python Program(with class concepts) to find the area of the triangle using the below\n",
    "#formula.\n",
    "#area = (s*(s-a)*(s-b)*(s-c)) ** 0.5\n",
    "#Function to take the length of the sides of triangle from user should be defined in the parent\n",
    "#class and function to calculate the area should be defined in subclass."
   ]
  },
  {
   "cell_type": "code",
   "execution_count": 3,
   "id": "510b49b2",
   "metadata": {},
   "outputs": [
    {
     "name": "stdout",
     "output_type": "stream",
     "text": [
      "8\n",
      "8\n",
      "8\n"
     ]
    },
    {
     "data": {
      "text/plain": [
       "27.712812921102035"
      ]
     },
     "execution_count": 3,
     "metadata": {},
     "output_type": "execute_result"
    }
   ],
   "source": [
    "class triangle:\n",
    "    def __init__(self,side_1,side_2,side_3):\n",
    "        self.side1=side_1\n",
    "        self.side2=side_2\n",
    "        self.side3=side_3\n",
    "        \n",
    "class Area(triangle):\n",
    "    def __init__(self,side_1,side_2,side_3):\n",
    "        triangle.__init__(self,side_1,side_2,side_3)\n",
    "    def triangle_area(self):    \n",
    "        s=(self.side1+self.side2+self.side3)/2\n",
    "        area=(s*(s-self.side1)*(s-self.side2)*(s-self.side3))**0.5\n",
    "        return area\n",
    "\n",
    "    \n",
    "object=Area(int(input()),int(input()),int(input()))\n",
    "object.triangle_area()\n",
    "        \n",
    "        "
   ]
  },
  {
   "cell_type": "code",
   "execution_count": null,
   "id": "e9f9cb8c",
   "metadata": {},
   "outputs": [],
   "source": [
    "#1.2 Write a function filter_long_words() that takes a list of words and an integer n and returns\n",
    "#the list of words that are longer than n."
   ]
  },
  {
   "cell_type": "code",
   "execution_count": 10,
   "id": "66028775",
   "metadata": {},
   "outputs": [
    {
     "name": "stdout",
     "output_type": "stream",
     "text": [
      "enter the number of words: 4\n",
      "enter the word :akhil\n",
      "enter the word :nikhil\n",
      "enter the word :mangesh\n",
      "enter the word :pshrinivas\n",
      "enter the max. no of characters: 5\n",
      "['nikhil', 'mangesh', 'pshrinivas']\n"
     ]
    }
   ],
   "source": [
    "def filter_long_words(l,n):\n",
    "    new_list=[]\n",
    "    for i in range (len(l)):\n",
    "        if (len(l[i])>n):\n",
    "            new_list.append(l[i])\n",
    "    print(new_list)   \n",
    "\n",
    "word_list=[]\n",
    "n=int(input(\"enter the number of words: \")) #no of words in your list\n",
    "for j in range (n):\n",
    "    a=str(input(\"enter the word :\"))# enter here all the words\n",
    "    word_list.append(a)\n",
    " \n",
    "m=int(input(\"enter the max. no of characters: \"))# maximum characters in one word\n",
    "\n",
    "filter_long_words(word_list,m)\n",
    "\n",
    "\n",
    "            \n",
    "            "
   ]
  },
  {
   "cell_type": "code",
   "execution_count": 11,
   "id": "163e69ff",
   "metadata": {},
   "outputs": [],
   "source": [
    "#2.1 Write a Python program using function concept that maps list of words into a list of integers\n",
    "#representing the lengths of the corresponding words.\n",
    "#Hint: If a list [ ab,cde,erty] is passed on to the python function output should come as [2,3,4]\n",
    "#Here 2,3 and 4 are the lengths of the words in the list."
   ]
  },
  {
   "cell_type": "code",
   "execution_count": 13,
   "id": "31ac890d",
   "metadata": {},
   "outputs": [
    {
     "name": "stdout",
     "output_type": "stream",
     "text": [
      "[5, 4, 10, 14, 2, 4]\n"
     ]
    }
   ],
   "source": [
    "def word_length(word_list1):\n",
    "    lengths=[]\n",
    "    for i in range (len(word_list1)):\n",
    "        lengths.append(len(word_list1[i]))\n",
    "    print(lengths)\n",
    "    \n",
    "words=[\"akhil\",\"jhfd\",\"dfgduyfisd\",\"fdsygsadbhbsad\",\"sd\",\"fdud\"]\n",
    "word_length(words)"
   ]
  },
  {
   "cell_type": "code",
   "execution_count": 14,
   "id": "8d3401b2",
   "metadata": {},
   "outputs": [],
   "source": [
    "#2.2 Write a Python function which takes a character (i.e. a string of length 1) and returns True if\n",
    "#it is a vowel, False otherwise."
   ]
  },
  {
   "cell_type": "code",
   "execution_count": 14,
   "id": "a9ab210d",
   "metadata": {},
   "outputs": [
    {
     "name": "stdout",
     "output_type": "stream",
     "text": [
      "enter the character: F\n"
     ]
    },
    {
     "data": {
      "text/plain": [
       "False"
      ]
     },
     "execution_count": 14,
     "metadata": {},
     "output_type": "execute_result"
    }
   ],
   "source": [
    "def vowels(c):\n",
    "    if(c==\"a\" or c==\"e\" or c==\"i\" or c==\"o\" or c==\"u\" or c==\"A\" or c==\"E\" or c==\"I\" or c==\"O\" or c==\"U\"):\n",
    "        return True\n",
    "    else:\n",
    "        return False\n",
    "    \n",
    "c=str(input(\"enter the character: \")) \n",
    "vowels(c)\n",
    "            "
   ]
  },
  {
   "cell_type": "code",
   "execution_count": null,
   "id": "fa8817cf",
   "metadata": {},
   "outputs": [],
   "source": []
  },
  {
   "cell_type": "code",
   "execution_count": null,
   "id": "a29a7aaa",
   "metadata": {},
   "outputs": [],
   "source": []
  }
 ],
 "metadata": {
  "kernelspec": {
   "display_name": "Python 3",
   "language": "python",
   "name": "python3"
  },
  "language_info": {
   "codemirror_mode": {
    "name": "ipython",
    "version": 3
   },
   "file_extension": ".py",
   "mimetype": "text/x-python",
   "name": "python",
   "nbconvert_exporter": "python",
   "pygments_lexer": "ipython3",
   "version": "3.8.8"
  }
 },
 "nbformat": 4,
 "nbformat_minor": 5
}
